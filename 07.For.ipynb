{
 "cells": [
  {
   "cell_type": "markdown",
   "metadata": {
    "id": "AOiFKsEFNgbz"
   },
   "source": [
    "# Цикл for"
   ]
  },
  {
   "cell_type": "markdown",
   "metadata": {
    "id": "uWsr5OZiNc4L"
   },
   "source": [
    "\n",
    "Цикл for, также называемый циклом с параметром, в языке Python богат возможностями. В цикле for указывается переменная и множество значений, по которому будет \"пробегать\" переменная. Множество значений может быть задано списком, кортежем, строкой или диапазоном.\n",
    "\n",
    "Вот простейший пример использования цикла, где в качестве множества значений используется список:"
   ]
  },
  {
   "cell_type": "code",
   "execution_count": null,
   "metadata": {
    "colab": {
     "base_uri": "https://localhost:8080/"
    },
    "executionInfo": {
     "elapsed": 6,
     "status": "ok",
     "timestamp": 1665041701736,
     "user": {
      "displayName": "Наталья Пояркова",
      "userId": "05997905871093046879"
     },
     "user_tz": -180
    },
    "id": "vJOEt-XPM8DO",
    "outputId": "d42b4162-b3fe-470e-e119-216c94c391be"
   },
   "outputs": [
    {
     "name": "stdout",
     "output_type": "stream",
     "text": [
      "1  color of rainbow is:  red\n",
      "2  color of rainbow is:  orange\n",
      "3  color of rainbow is:  yellow\n",
      "4  color of rainbow is:  green\n",
      "5  color of rainbow is:  cyan\n",
      "6  color of rainbow is:  blue\n",
      "7  color of rainbow is:  violet\n"
     ]
    }
   ],
   "source": [
    "i = 1\n",
    "for color in ['red', 'orange', 'yellow', 'green', 'cyan', 'blue', 'violet']:\n",
    "    print(i, ' color of rainbow is: ', color)\n",
    "    i += 1 # i = i+1"
   ]
  },
  {
   "cell_type": "markdown",
   "metadata": {
    "id": "5FIn51qIOHP7"
   },
   "source": [
    "В этом примере переменная color последовательно принимает значения 'red', 'orange' и т.д. В теле цикла выводится сообщение, которое содержит название цвета, то есть значение переменной color, а также номер итерации цикла  число, которое сначала равно 1, а потом увеличивается на один (инструкцией `i += 1` с каждым проходом цикла.\n",
    "\n",
    ">Инструкция `i += 1` эквивалентна конструкции `i = i + 1` (это просто сокращенная запись). Такую сокращенную запись можно использовать для всех арифметических операций: `*=, -=, /=, //=, %=`"
   ]
  },
  {
   "cell_type": "markdown",
   "metadata": {
    "id": "vqXR7AcDP3-D"
   },
   "source": [
    "## Функция range\n",
    "Как правило, циклы `for` используются либо для повторения какой-либо последовательности действий заданное число раз, либо для изменения значения переменной в цикле от некоторого начального значения до некоторого конечного.\n",
    "\n",
    "Для повторения цикла некоторое заданное число раз n можно использовать цикл `for` вместе с функцией `range`:"
   ]
  },
  {
   "cell_type": "code",
   "execution_count": null,
   "metadata": {
    "id": "C6RvzmfdP-Js"
   },
   "outputs": [],
   "source": [
    "for i in range(4):  # равносильно инструкции for i in [0, 1, 2, 3]:\n",
    "    # здесь записываются действия, которые должны повторяться\n",
    "    print(i)\n",
    "    print(i ** 2)\n",
    "# цикл закончился, поскольку закончился блок с отступом\n",
    "print('Конец цикла')"
   ]
  },
  {
   "cell_type": "markdown",
   "metadata": {
    "id": "KNNmtom1QZNN"
   },
   "source": [
    "Функция `range` может также принимать не один, а два параметра. Вызов `range(a, b)` означает, что индексная переменная будеть принимать значения от a до b - 1, то есть первый параметр функции range, вызываемой с двумя параметрами, задает начальное значение индексной переменной, а второй параметр — первое значение, которое индексная переменная принимать не будет. Если же a≥b, то цикл не будет выполнен ни разу. Например, для того, чтобы вывести значения чисел от 1 до n можно воспользоваться следующей программой:"
   ]
  },
  {
   "cell_type": "code",
   "execution_count": 1,
   "metadata": {
    "colab": {
     "base_uri": "https://localhost:8080/"
    },
    "executionInfo": {
     "elapsed": 3,
     "status": "ok",
     "timestamp": 1668085144097,
     "user": {
      "displayName": "Наталья Пояркова",
      "userId": "05997905871093046879"
     },
     "user_tz": -180
    },
    "id": "RVnh1Pj1Qfaj",
    "outputId": "7020516c-ffae-4326-e0e2-caef4f76a9cb"
   },
   "outputs": [
    {
     "name": "stdout",
     "output_type": "stream",
     "text": [
      "1\n",
      "2\n",
      "3\n",
      "4\n",
      "5\n",
      "конец цикла\n"
     ]
    }
   ],
   "source": [
    "sum = 0\n",
    "n = 6\n",
    "for i in range(1, n):\n",
    "    print(i)\n",
    "print(\"конец цикла\")"
   ]
  },
  {
   "cell_type": "markdown",
   "metadata": {
    "id": "9N93nUuAQp5L"
   },
   "source": [
    "В этом примере переменная i принимает значения 1, 2, ..., n.\n",
    "\n",
    "Чтобы организовать цикл, в котором индексная переменная будет уменьшаться, необходимо использовать функцию `range` с тремя параметрами. Первый параметр задает начальное значение индексной переменной, второй параметр — значение, до которого будет изменяться индексная переменная (не включая его!), а третий параметр — величину изменения индексной переменной. Например, сделать цикл по всем нечетным числам от 1 до 99 можно при помощи функции `range(1, 100, 2)`, а сделать цикл по всем числам от 100 до 1 можно при помощи `range(100, 0, -1)`.\n",
    "\n",
    "\n",
    "Более формально, цикл `for i in range(a, b, d)` при d > 0 задает значения индексной переменной `i = a, i = a + d, i = a + 2 * d` и так для всех значений, для которых `i < b`. Если же `d < 0`, то переменная цикла принимает все значения i > b."
   ]
  },
  {
   "cell_type": "code",
   "execution_count": null,
   "metadata": {
    "id": "rgvuYhwIn8WD"
   },
   "outputs": [],
   "source": [
    "#вывести числа от 10 до 1"
   ]
  },
  {
   "cell_type": "code",
   "execution_count": null,
   "metadata": {
    "id": "Ot_Zs2f0oBef"
   },
   "outputs": [],
   "source": [
    "#вывести четные числа от 0 до 10"
   ]
  },
  {
   "cell_type": "code",
   "execution_count": null,
   "metadata": {
    "id": "hROJsH4gql0Q"
   },
   "outputs": [],
   "source": [
    "#вывести числа, кратные 3 от 3 до 18: 3, 6, 9, ..."
   ]
  },
  {
   "cell_type": "markdown",
   "metadata": {
    "id": "bZR0wbbkqh2g"
   },
   "source": []
  },
  {
   "cell_type": "markdown",
   "metadata": {
    "id": "fGF1PaNUQxNS"
   },
   "source": [
    "# Задачи"
   ]
  },
  {
   "cell_type": "markdown",
   "metadata": {
    "id": "q6M-Kt_kQ8yO"
   },
   "source": [
    "### 1. \n",
    "Даны два целых числа A и B (при этом A ≤ B). Выведите все числа от A до B включительно."
   ]
  },
  {
   "cell_type": "code",
   "execution_count": null,
   "metadata": {
    "id": "BC_pGnR0TopM"
   },
   "outputs": [],
   "source": [
    "A = int(input(\"Введите целое число A: \"))\n",
    "B = int(input(\"Введите целое число B: \"))\n",
    "\n",
    "if A <= B:\n",
    "    for number in range(A, B + 1):\n",
    "        print(number)\n",
    "else:\n",
    "    print(\"Ошибка: A должно быть меньше или равно B.\")\n"
   ]
  },
  {
   "cell_type": "markdown",
   "metadata": {
    "id": "J1zXD0KCTsQ8"
   },
   "source": [
    "### 2. \n",
    "Даны два целых числа A и В. Выведите все числа от A до B включительно, в порядке возрастания, если A < B, или в порядке убывания в противном случае."
   ]
  },
  {
   "cell_type": "code",
   "execution_count": null,
   "metadata": {
    "id": "VVhvwlD4Qwuq"
   },
   "outputs": [],
   "source": [
    "A = int(input(\"Введите целое число A: \"))\n",
    "B = int(input(\"Введите целое число B: \"))\n",
    "\n",
    "\n",
    "if A < B:\n",
    "    for number in range(A, B + 1):\n",
    "        print(number)\n",
    "else:\n",
    "    for number in range(A, B - 1, -1):\n",
    "        print(number)"
   ]
  },
  {
   "cell_type": "markdown",
   "metadata": {
    "id": "m7STF4J2Tyzb"
   },
   "source": [
    "### 3. Даны два целых числа A и В, A>B. Выведите все нечётные числа от A до B включительно, в порядке убывания. В теле цикла не используйте оператор if"
   ]
  },
  {
   "cell_type": "code",
   "execution_count": null,
   "metadata": {
    "id": "mH0A3GlAPT8z"
   },
   "outputs": [],
   "source": [
    "A = int(input(\"Введите целое число A (A > B): \"))\n",
    "B = int(input(\"Введите целое число B: \"))\n",
    "\n",
    "\n",
    "if A > B:\n",
    "    start = A if A % 2 != 0 else A - 1\n",
    "    \n",
    "    for number in range(start, B - 1, -2):\n",
    "        print(number)\n",
    "else:\n",
    "    print(\"Ошибка: A должно быть больше B.\")\n"
   ]
  },
  {
   "cell_type": "markdown",
   "metadata": {
    "id": "B-0FuYZtUCA9"
   },
   "source": [
    "###4. С клавиатуры вводятся 10 целых чисел. Вычислите их сумму"
   ]
  },
  {
   "cell_type": "code",
   "execution_count": null,
   "metadata": {
    "id": "YGde2WUiUKMv"
   },
   "outputs": [],
   "source": [
    "total_sum = 0\n",
    "\n",
    "for i in range(10):\n",
    "    number = int(input(f\"Введите целое число {i + 1}: \"))\n",
    "    total_sum += number\n",
    "\n",
    "\n",
    "print(\"Сумма введённых чисел:\", total_sum)\n"
   ]
  },
  {
   "cell_type": "markdown",
   "metadata": {
    "id": "lSSlReXXZPzw"
   },
   "source": [
    "###5. Факториалом числа n называется произведение `1 × 2 × ... × n`. Обозначение: `n!`\n",
    "По данному натуральному n вычислите значение `n!`. Пользоваться математической библиотекой `math` в этой задаче запрещено.\n",
    "\n"
   ]
  },
  {
   "cell_type": "code",
   "execution_count": null,
   "metadata": {
    "id": "Sdf2vnMsZWFo"
   },
   "outputs": [],
   "source": [
    "n = int(input(\"Введите натуральное число n: \"))\n",
    "\n",
    "factorial = 1\n",
    "\n",
    "for i in range(1, n + 1):\n",
    "    factorial *= i \n",
    "\n",
    "print(f\"Факториал {n}! = {factorial}\")\n"
   ]
  },
  {
   "cell_type": "markdown",
   "metadata": {
    "id": "3hL7P28iZWiJ"
   },
   "source": [
    "###6. Дано N чисел: сначала вводится число N, затем вводится ровно N целых чисел. Подсчитайте и выведите количество чисел, равных нулю"
   ]
  },
  {
   "cell_type": "code",
   "execution_count": null,
   "metadata": {
    "id": "EKWTgLfjZsAA"
   },
   "outputs": [],
   "source": [
    "N = int(input(\"Введите количество чисел N: \"))\n",
    "\n",
    "zero_count = 0\n",
    "\n",
    "for i in range(N):\n",
    "    number = int(input(f\"Введите целое число {i + 1}: \"))\n",
    "    if number == 0:\n",
    "        zero_count += 1 \n",
    "\n",
    "print(\"Количество чисел, равных нулю:\", zero_count)\n"
   ]
  },
  {
   "cell_type": "markdown",
   "metadata": {
    "id": "UJ1QT5-vZ3AZ"
   },
   "source": [
    "###7. По данному натуральному n ≤ 9 выведите лесенку из n ступенек, i-я ступенька состоит из чисел от 1 до i без пробелов, "
   ]
  },
  {
   "cell_type": "markdown",
   "metadata": {},
   "source": [
    "![image.png](data:image/png;base64,iVBORw0KGgoAAAANSUhEUgAAALYAAAB8CAYAAADEg0rWAAAFDUlEQVR4nO3dT0sbeRzH8U+XfQQulL3p7jl6K+bPSu3ZxeJNsuDNQxACq2ghDyBsCwoNDjl4KD1s2Jtok6uwDdkE9tTEB+DSy66YPIXZg0Zj1PzRyUzynfcLCk1nJv0V3kzHkO/MM9d1XQHGfBP0AoBRIGyYRNgwibBhEmHDJMKGSYQNkwgbJhE2TCJsmETYMImwYRJhwyTChkmEDZMIGyb1DbvhLCia6Py1o+NzP5YG/5wql1hQdKuoZtBL8ci3g+yUzJeVnhv1UhCIuqNoSspkYtJJ0IvxDpcioXaq3MdplSobSgS9FI8NdMaGVRGldyOSZOYSpG2gsAupBRWufh/PHGlvaWqESwKerm/Ysxtl1Tbar06VS7zWpogb423Ia+yIXiVHsxDAS8OFXXe0Xohp8QVna4y3Z71vmHOqXCJ1fX0treqgsqFZHxYGP7R0vPVa2VrXH0ffqLT7s74LZE3e6BM2MJn4HBsmETZMImyYRNgwibBhEmHDJMKGSYQNkwgbJhE2TCJsmETYMImwoZ5T6udFbXbcpSBXD2J9wyPssKs7iib+1Ewmds/Glo7fftbiYVm1Slm1/KoKqcm4/QZhh1q/KfUpLe++0/Lzq5dzL5VUVWf/+rfCx2JKPdRCPqUOSFLDSakQfaPSBNw8ibAxkGZpR+uFVR1UJmNkjGts9NUs7WgpK2UOJ2felbDR003UHT9ETgCGeUOt35R6910KurePL8KGSVyKwCTChkmEDZMIGyYRNkwibJhE2DCJsGESYcMkwoZJhA2TCBsmETb0+Cn1lo63brZFE2M06Osi3L7su/PxffeouO3Ob35yL25tbLpHm9vu0X+d+3a8fuC96iNd8GA4Y4eax1Pq308rPpJ1Do+wQy2itIcDA82/P+uv5MuxGB9jmBcDu39KvXPKJqbMYSSQtXXjjI2BXE+p3znDR5SuXN0pqrKms5XxuA0aYaOvwafUI3qVlM6+tnxa2cMIGz0NNaV+XtSHQkyLL6Z8WVsvDPOG2lOn1Lu3x8bmNg2EDZO4FIFJhA2TCBsmETZMImyYRNgwibBhEmHDJMKGSYQNkwgbJhE25Mswb9253Mc5Hcm/oBthh92THjk9peXd9pBBWbX8tLIrjhp33udUudQ/Sibv+ztGg7BDzZ9h3oaTUiG5pl9mvFjzYAg71HwY5q07lyNlG/7OQjLMi4ENP8zb0vHHP5TMlzUrf5/XTtgYyMOPnL4c5k1Lav8QmsuXlZ6TmqXflP0xr1oAz14nbPQ17DDvh68taU6qnFSlWlXRW7NlVUULox8hI2z09Khh3sPLYd7l3bKWu9/rbE01H663CTvUuod5q1pKvL01rPt7tipJyq4sKNvejWFeIBh83AeTCBsmETZMImyYRNgwibBhEmHDJMKGSYQNkwgbJhE2TCJsmETYUJBT6g2n83jvHlvN11bDru4ompIymZh00r3xZkp973l73x3NXH81der2d67rjqIrjn6odA8k3Eyp33mejaTk1cSNlzhjhxpT6jCJKXVgZFPqhdTC9SVKPHOkvSUPnhPpAq7rXhS33fnNT+5Fr+3xfbfe810a7vv4T+77Lx3H7Dduv0fH64eO/7XYHG7x9+CMjb78m1K/Ot6DNRM2evJ1Sr3uaL0QU+bw6ZcihB1qQU+pdx+/qoPKuz7/KwyGKXWYxMd9MImwYRJhwyTChkmEDZMIGyYRNkwibJhE2DCJsGHS/+KosguYBOBwAAAAAElFTkSuQmCC)"
   ]
  },
  {
   "cell_type": "code",
   "execution_count": null,
   "metadata": {},
   "outputs": [],
   "source": [
    "n = int(input(\"Введите натуральное число n (n ≤ 9): \"))\n",
    "\n",
    "\n",
    "if 1 <= n <= 9:\n",
    "\n",
    "    for i in range(1, n + 1):\n",
    "        print(\"\".join(str(x) for x in range(1, i + 1)))\n",
    "else:\n",
    "    print(\"Пожалуйста, введите натуральное число от 1 до 9.\")\n"
   ]
  },
  {
   "cell_type": "markdown",
   "metadata": {
    "id": "2DGBVpyYzTii"
   },
   "source": [
    "###8. Имеется два списка одинаковой длины: fruits, содержащий названия фруктов, names, содержащий имена детей. Распечатайте фразы, содержащие элементы из двух списков, объединенные попарно, в виде \"Name любит Fruit\", где  Name - элемент из списка names, Fruit - соотвествующий (с тем же индексом) элемент списка fruits"
   ]
  },
  {
   "cell_type": "markdown",
   "metadata": {
    "id": "LWBIiVJ_zRni"
   },
   "source": [
    "fruits = [\"apple\", \"banana\", \"cherry\"]"
   ]
  },
  {
   "cell_type": "code",
   "execution_count": null,
   "metadata": {
    "id": "h_orpFo0aBAB"
   },
   "outputs": [],
   "source": [
    "fruits = [\"яблоко\", \"банан\", \"апельсин\", \"груша\"]\n",
    "names = [\"Анна\", \"Иван\", \"Света\", \"Петя\"]\n",
    "\n",
    "if len(fruits) == len(names):\n",
    "    for i in range(len(names)):\n",
    "        print(f\"{names[i]} любит {fruits[i]}\")\n",
    "else:\n",
    "    print(\"Списки должны быть одинаковой длины.\")\n"
   ]
  },
  {
   "cell_type": "markdown",
   "metadata": {
    "id": "oBMaYRXmwVAS"
   },
   "source": [
    "#Вложенные циклы"
   ]
  },
  {
   "cell_type": "markdown",
   "metadata": {
    "id": "fpfSnYHLwmpx"
   },
   "source": [
    "Вложенный цикл - это цикл внутри цикла."
   ]
  },
  {
   "cell_type": "code",
   "execution_count": null,
   "metadata": {
    "colab": {
     "base_uri": "https://localhost:8080/"
    },
    "executionInfo": {
     "elapsed": 648,
     "status": "ok",
     "timestamp": 1665075717096,
     "user": {
      "displayName": "Наталья Пояркова",
      "userId": "05997905871093046879"
     },
     "user_tz": -180
    },
    "id": "oayW6ajJwaii",
    "outputId": "d69b686a-a4f9-4c51-882c-3eecd36d28a7"
   },
   "outputs": [
    {
     "name": "stdout",
     "output_type": "stream",
     "text": [
      "red apple\n",
      "red banana\n",
      "red cherry\n",
      "big apple\n",
      "big banana\n",
      "big cherry\n",
      "tasty apple\n",
      "tasty banana\n",
      "tasty cherry\n"
     ]
    }
   ],
   "source": [
    "adj = [\"red\", \"big\", \"tasty\"]\n",
    "fruits = [\"apple\", \"banana\", \"cherry\"]\n",
    "\n",
    "for x in adj:\n",
    "  for y in fruits:\n",
    "    print(x, y)"
   ]
  },
  {
   "cell_type": "code",
   "execution_count": null,
   "metadata": {
    "colab": {
     "base_uri": "https://localhost:8080/"
    },
    "executionInfo": {
     "elapsed": 278,
     "status": "ok",
     "timestamp": 1665075740945,
     "user": {
      "displayName": "Наталья Пояркова",
      "userId": "05997905871093046879"
     },
     "user_tz": -180
    },
    "id": "3q9CN-X8ys9J",
    "outputId": "72d7bd07-1653-49f1-9945-dca2bf057ffd"
   },
   "outputs": [
    {
     "name": "stdout",
     "output_type": "stream",
     "text": [
      "число i = 0   число j = 0\n",
      "число i = 0   число j = 1\n",
      "число i = 0   число j = 2\n",
      "число i = 0   число j = 3\n",
      "число i = 1   число j = 0\n",
      "число i = 1   число j = 1\n",
      "число i = 1   число j = 2\n",
      "число i = 1   число j = 3\n",
      "число i = 2   число j = 0\n",
      "число i = 2   число j = 1\n",
      "число i = 2   число j = 2\n",
      "число i = 2   число j = 3\n"
     ]
    }
   ],
   "source": [
    "for i in range(3):\n",
    "  for j in range(4):\n",
    "    print(\"число i =\", i, \"  число j =\", j  )"
   ]
  },
  {
   "cell_type": "markdown",
   "metadata": {
    "id": "Znic84weyf9A"
   },
   "source": [
    "Составляя вложенные циклы, Необходимо очень аккуратно использовать отступы, соблюдая принцип \"вложенности\".  "
   ]
  },
  {
   "cell_type": "code",
   "execution_count": null,
   "metadata": {
    "colab": {
     "base_uri": "https://localhost:8080/"
    },
    "executionInfo": {
     "elapsed": 243,
     "status": "ok",
     "timestamp": 1665075935389,
     "user": {
      "displayName": "Наталья Пояркова",
      "userId": "05997905871093046879"
     },
     "user_tz": -180
    },
    "id": "yi9fQZTTwzJZ",
    "outputId": "bd65f398-ea35-452f-c7de-25c76a371db8"
   },
   "outputs": [
    {
     "name": "stdout",
     "output_type": "stream",
     "text": [
      "число i = 0   число j = 0\n",
      "число i = 0   число j = 1\n",
      "число i = 0   число j = 2\n",
      "число i = 0   число j = 3\n",
      "Внутренний цикл по j завершен, переходим к следующей итерации по i\n",
      "число i = 1   число j = 0\n",
      "число i = 1   число j = 1\n",
      "число i = 1   число j = 2\n",
      "число i = 1   число j = 3\n",
      "Внутренний цикл по j завершен, переходим к следующей итерации по i\n",
      "число i = 2   число j = 0\n",
      "число i = 2   число j = 1\n",
      "число i = 2   число j = 2\n",
      "число i = 2   число j = 3\n",
      "Внутренний цикл по j завершен, переходим к следующей итерации по i\n",
      "Внешний цикл по i завершен\n"
     ]
    }
   ],
   "source": [
    "for i in range(3):\n",
    "  for j in range(4):\n",
    "    print(\"число i =\", i, \"  число j =\", j  )\n",
    "  print(\"Внутренний цикл по j завершен, переходим к следующей итерации по i\")\n",
    "print(\"Внешний цикл по i завершен\")"
   ]
  },
  {
   "cell_type": "markdown",
   "metadata": {
    "id": "OM3G_Zn2aZtA"
   },
   "source": [
    "#Задачи"
   ]
  },
  {
   "cell_type": "markdown",
   "metadata": {
    "id": "PFU2Xt6nb4f_"
   },
   "source": [
    "###1. Используя вложенные циклы for, сформируйте список   [[1,1], [1,2], [1,3], [2,1], [2,2], [2,3], [3,1], [3,2], [3,3]]"
   ]
  },
  {
   "cell_type": "code",
   "execution_count": null,
   "metadata": {
    "id": "_ck5ZU72cdjP"
   },
   "outputs": [],
   "source": [
    "result = []\n",
    "\n",
    "for i in range(1, 4):\n",
    "\n",
    "    for j in range(1, 4):\n",
    "        result.append([i, j])\n",
    "\n",
    "# Вывод результата\n",
    "print(result)"
   ]
  },
  {
   "cell_type": "markdown",
   "metadata": {
    "id": "_eE4Ay-0cfGf"
   },
   "source": [
    "###2. Даны два списка: drinks  = ['cofe', 'tea', 'water'] и flavors = ['orange', 'coconut', 'chocolate', 'almond', 'raspberry'] Используя вложенные циклы for, сформируйте список ароматизированных напитков - всех возможных комбинаций значений первого и второго списка ['orange cofe', 'coconut cofe', ... ]"
   ]
  },
  {
   "cell_type": "code",
   "execution_count": null,
   "metadata": {
    "id": "uEy5LxEMactA"
   },
   "outputs": [],
   "source": [
    "drinks = ['cofe', 'tea', 'water']\n",
    "flavors = ['orange', 'coconut', 'chocolate', 'almond', 'raspberry']\n",
    "\n",
    "flavored_drinks = []\n",
    "\n",
    "for drink in drinks:\n",
    "    for flavor in flavors:\n",
    "        flavored_drinks.append(f\"{flavor} {drink}\")\n",
    "\n",
    "print(flavored_drinks)\n"
   ]
  }
 ],
 "metadata": {
  "colab": {
   "authorship_tag": "ABX9TyNlYf++hxzbN9N5qyicYiBN",
   "provenance": []
  },
  "kernelspec": {
   "display_name": "Python 3",
   "language": "python",
   "name": "python3"
  },
  "latex_envs": {
   "LaTeX_envs_menu_present": true,
   "autoclose": false,
   "autocomplete": true,
   "bibliofile": "biblio.bib",
   "cite_by": "apalike",
   "current_citInitial": 1,
   "eqLabelWithNumbers": true,
   "eqNumInitial": 1,
   "hotkeys": {
    "equation": "Ctrl-E",
    "itemize": "Ctrl-I"
   },
   "labels_anchors": false,
   "latex_user_defs": false,
   "report_style_numbering": false,
   "user_envs_cfg": false
  },
  "toc": {
   "base_numbering": 1,
   "nav_menu": {},
   "number_sections": false,
   "sideBar": true,
   "skip_h1_title": false,
   "title_cell": "Table of Contents",
   "title_sidebar": "Contents",
   "toc_cell": false,
   "toc_position": {},
   "toc_section_display": true,
   "toc_window_display": false
  }
 },
 "nbformat": 4,
 "nbformat_minor": 1
}
